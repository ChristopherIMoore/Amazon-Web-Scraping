{
 "cells": [
  {
   "cell_type": "markdown",
   "id": "d24fd73a-1ea5-42fc-b45e-30b7f0957a16",
   "metadata": {},
   "source": [
    "## Amazon Web Scraping Using Python"
   ]
  },
  {
   "cell_type": "code",
   "execution_count": 2,
   "id": "d3013705-5965-4a99-8554-9af0aa5f0669",
   "metadata": {},
   "outputs": [],
   "source": [
    "#Importing the libraries i will need\n",
    "from bs4 import BeautifulSoup\n",
    "import requests\n",
    "import time\n",
    "import datetime\n",
    "import smtplib"
   ]
  },
  {
   "cell_type": "code",
   "execution_count": 3,
   "id": "befbde40-e6c4-4d18-8b17-83d6afb2155c",
   "metadata": {},
   "outputs": [
    {
     "name": "stdout",
     "output_type": "stream",
     "text": [
      "Data Analyst Definition Data Analysis T-Shirt\n",
      "16.99\n"
     ]
    }
   ],
   "source": [
    "# Connecting to the website\n",
    "URL = 'https://www.amazon.co.uk/Data-Analyst-Definition-Analysis-T-Shirt/dp/B0C1TG8MM4/ref=sr_1_4?crid=3VKOUYKPYRMPM&dib=eyJ2IjoiMSJ9.jnfcK9Bap-3lq_bQqoM_kjkFTzkEaXZWjbXpIh3KP1JuIfnTePWnL73p7Az7BpWHkjQTyw931meWJg6znDYz6IUebBEnwGxK768YEoUIUpHIiOwcqp4xwZuf-wC27ho4wCGzQ1ou0TboolZy_5CGgz0ZijB_zX7ScU59tJVdXFyC5gw4xOqQgGkaLyit_mYN0tPfan1SG6C23tsRjUwmiuJ_w6IKJkLbFiRFxu4etGeLbXmN7p1A4VaSuPJLqlCMwHVQMMA9XVMg9bN16rx1NRa_A9Z_eVvUCdO6GT_zuB0tmNRALtOiC0S1fxaDqn4g-Mh1ysC_w6bgPMkNEIxbC-0O4YzRH9McnFJeuvkRdMTkEUYYaa0fCb6q3m4X7AljHWimwM156g-MMLKRsMcmWub0ctKoWFsJXHj-vg7PQWkvXC86d3dz0gr_-XWvUMyY.sOoFaRonCP9lCeriMl1Vex88SX_k9JlGeka6sJQSVZY&dib_tag=se&keywords=data+analysis+shirt&qid=1739529633&sprefix=data+analysis+shirt%2Caps%2C80&sr=8-4'\n",
    "\n",
    "headers = {\"User-Agent\": \"Mozilla/5.0 (Windows NT 10.0; Win64; x64) AppleWebKit/537.36 (KHTML, like Gecko) Chrome/130.0.0.0 Safari/537.36 OPR/115.0.0.0 (Edition std-1)\"}\n",
    "\n",
    "page = requests.get(URL, headers = headers)\n",
    "\n",
    "soup1 = BeautifulSoup(page.content,\"html.parser\")\n",
    "soup2 = BeautifulSoup(soup1.prettify(), \"html.parser\")\n",
    "\n",
    "title = soup2.find(id = 'productTitle').get_text(strip=True)\n",
    "\n",
    "price = soup2.find('span', class_='aok-offscreen').get_text(strip=True)[1:]\n",
    "\n",
    "print(title)\n",
    "print(price)"
   ]
  },
  {
   "cell_type": "code",
   "execution_count": 4,
   "id": "0b2727dc-772a-41c0-8fb3-5dc0c780aaba",
   "metadata": {},
   "outputs": [
    {
     "name": "stdout",
     "output_type": "stream",
     "text": [
      "2025-02-25\n"
     ]
    }
   ],
   "source": [
    "#Selecting the date & time and assiging it to today\n",
    "import datetime\n",
    "today = datetime.date.today()\n",
    "print(today)"
   ]
  },
  {
   "cell_type": "code",
   "execution_count": 5,
   "id": "808ae02e-d791-4ec7-8e07-276f26067028",
   "metadata": {},
   "outputs": [],
   "source": [
    "#Creating the csv that will store the data i am using\n",
    "import csv\n",
    "\n",
    "header = ['Title', ' Price', 'Date']\n",
    "data = [title, price, today]\n",
    "\n",
    "with open('AmazonWebScraping.csv', 'w', newline = '', encoding = 'UTF8') as f:\n",
    "    writer = csv.writer(f)\n",
    "    writer.writerow(header)\n",
    "    writer.writerow(data)"
   ]
  },
  {
   "cell_type": "code",
   "execution_count": 6,
   "id": "399fa449-52b0-4a05-80e5-2b8a7c4f3e78",
   "metadata": {
    "scrolled": true
   },
   "outputs": [
    {
     "name": "stdout",
     "output_type": "stream",
     "text": [
      "                                           Title   Price        Date\n",
      "0  Data Analyst Definition Data Analysis T-Shirt   16.99  2025-02-25\n"
     ]
    }
   ],
   "source": [
    "import pandas as pd\n",
    "df = pd.read_csv(r\"C:\\Cleaning Data\\AmazonWebScraping.csv\")\n",
    "print(df)"
   ]
  },
  {
   "cell_type": "code",
   "execution_count": 7,
   "id": "74982e03-56d0-4187-aa64-88e4f8200bd9",
   "metadata": {},
   "outputs": [],
   "source": [
    "#Now we are appending data to csv by putting a+ rather than replacing the data\n",
    "with open('AmazonScrapingTest.csv', 'a+', newline = '', encoding = 'UTF8') as f:\n",
    "    writer = csv.writer(f)\n",
    "    writer.writerow(data)"
   ]
  },
  {
   "cell_type": "code",
   "execution_count": 8,
   "id": "126c337e-f65c-46eb-b078-b33ad995d5fb",
   "metadata": {},
   "outputs": [],
   "source": [
    "#Creating the function that will check the price of this item and append the new info into a csv, this is a combination of previous cells\n",
    "def check_price():\n",
    "    URL = 'https://www.amazon.co.uk/Data-Analyst-Definition-Analysis-T-Shirt/dp/B0C1TG8MM4/ref=sr_1_4?crid=3VKOUYKPYRMPM&dib=eyJ2IjoiMSJ9.jnfcK9Bap-3lq_bQqoM_kjkFTzkEaXZWjbXpIh3KP1JuIfnTePWnL73p7Az7BpWHkjQTyw931meWJg6znDYz6IUebBEnwGxK768YEoUIUpHIiOwcqp4xwZuf-wC27ho4wCGzQ1ou0TboolZy_5CGgz0ZijB_zX7ScU59tJVdXFyC5gw4xOqQgGkaLyit_mYN0tPfan1SG6C23tsRjUwmiuJ_w6IKJkLbFiRFxu4etGeLbXmN7p1A4VaSuPJLqlCMwHVQMMA9XVMg9bN16rx1NRa_A9Z_eVvUCdO6GT_zuB0tmNRALtOiC0S1fxaDqn4g-Mh1ysC_w6bgPMkNEIxbC-0O4YzRH9McnFJeuvkRdMTkEUYYaa0fCb6q3m4X7AljHWimwM156g-MMLKRsMcmWub0ctKoWFsJXHj-vg7PQWkvXC86d3dz0gr_-XWvUMyY.sOoFaRonCP9lCeriMl1Vex88SX_k9JlGeka6sJQSVZY&dib_tag=se&keywords=data+analysis+shirt&qid=1739529633&sprefix=data+analysis+shirt%2Caps%2C80&sr=8-4'\n",
    "    headers = {\"User-Agent\": \"Mozilla/5.0 (Windows NT 10.0; Win64; x64) AppleWebKit/537.36 (KHTML, like Gecko) Chrome/130.0.0.0 Safari/537.36 OPR/115.0.0.0 (Edition std-1)\"}\n",
    "    page = requests.get(URL, headers = headers)\n",
    "    soup1 = BeautifulSoup(page.content,\"html.parser\")\n",
    "    soup2 = BeautifulSoup(soup1.prettify(), \"html.parser\")\n",
    "    title = soup2.find(id = 'productTitle').get_text(strip=True)\n",
    "    price = soup2.find('span', class_='aok-offscreen').get_text(strip=True)[1:]\n",
    "    import datetime\n",
    "    today = datetime.date.today()\n",
    "    import csv\n",
    "    header = ['Title', ' Price', 'Date']\n",
    "    data = [title, price, today]\n",
    "    with open(r\"C:\\Users\\Christopher Moore\\AmazonScrapingTest.csv\", 'a+', newline='' ,encoding = 'UTF8') as f:\n",
    "        writer = csv.writer(f)\n",
    "        writer.writerow(data)"
   ]
  },
  {
   "cell_type": "code",
   "execution_count": 16,
   "id": "73ba4faf-0858-4ee3-a4d6-e64a78d1125f",
   "metadata": {
    "scrolled": true
   },
   "outputs": [
    {
     "ename": "KeyboardInterrupt",
     "evalue": "",
     "output_type": "error",
     "traceback": [
      "\u001b[1;31m---------------------------------------------------------------------------\u001b[0m",
      "\u001b[1;31mKeyboardInterrupt\u001b[0m                         Traceback (most recent call last)",
      "Cell \u001b[1;32mIn[16], line 4\u001b[0m\n\u001b[0;32m      2\u001b[0m \u001b[38;5;28;01mwhile\u001b[39;00m(\u001b[38;5;28;01mTrue\u001b[39;00m):\n\u001b[0;32m      3\u001b[0m     check_price()\n\u001b[1;32m----> 4\u001b[0m     time\u001b[38;5;241m.\u001b[39msleep(\u001b[38;5;241m30\u001b[39m)\n",
      "\u001b[1;31mKeyboardInterrupt\u001b[0m: "
     ]
    }
   ],
   "source": [
    "#This runs the Check price function, it is currently selected to run the function each day and will do this as long as the kernel is running\n",
    "#Error is for interupting the kernal\n",
    "while(True):\n",
    "    check_price()\n",
    "    time.sleep(86400)"
   ]
  },
  {
   "cell_type": "code",
   "execution_count": 18,
   "id": "ce8d0517-cbc4-4252-9527-019a0d62d333",
   "metadata": {},
   "outputs": [
    {
     "name": "stdout",
     "output_type": "stream",
     "text": [
      "   Data Analyst Definition Data Analysis T-Shirt  16.99  2025-02-25\n",
      "0  Data Analyst Definition Data Analysis T-Shirt  16.99  2025-02-25\n",
      "1  Data Analyst Definition Data Analysis T-Shirt  16.99  2025-02-25\n",
      "2  Data Analyst Definition Data Analysis T-Shirt  16.99  2025-02-25\n",
      "3  Data Analyst Definition Data Analysis T-Shirt  16.99  2025-02-25\n",
      "4  Data Analyst Definition Data Analysis T-Shirt  16.99  2025-02-25\n"
     ]
    }
   ],
   "source": [
    "#Just reading the CSV that I stored the information into, For example purposes I made the function run serveal times on 1 day\n",
    "import pandas as pd\n",
    "df = pd.read_csv(r\"C:\\Users\\Christopher Moore\\AmazonScrapingTest.csv\")\n",
    "print(df)"
   ]
  }
 ],
 "metadata": {
  "kernelspec": {
   "display_name": "Python [conda env:base] *",
   "language": "python",
   "name": "conda-base-py"
  },
  "language_info": {
   "codemirror_mode": {
    "name": "ipython",
    "version": 3
   },
   "file_extension": ".py",
   "mimetype": "text/x-python",
   "name": "python",
   "nbconvert_exporter": "python",
   "pygments_lexer": "ipython3",
   "version": "3.11.5"
  }
 },
 "nbformat": 4,
 "nbformat_minor": 5
}
